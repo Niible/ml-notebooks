{
 "cells": [
  {
   "cell_type": "markdown",
   "metadata": {},
   "source": [
    "# Clustering the Iris data set"
   ]
  },
  {
   "cell_type": "markdown",
   "metadata": {},
   "source": [
    "The goal of this notebook is to apply hierarchical clustering, k-means clustering, and DBSCAN to the Iris data set.\n",
    "\n",
    "This notebook was created by [Chloé-Agathe Azencott](http://cazencott.info), inspired by material from [Marc Harper](http://marcharper.codes/)."
   ]
  },
  {
   "cell_type": "markdown",
   "metadata": {},
   "source": [
    "This notebook was created using\n",
    "* python 3.4.3\n",
    "* numpy 1.15.0\n",
    "* matplotlib 2.2.2\n",
    "* scikit-learn 0.19.2\n",
    "\n",
    "You can check your version of Python by running\n",
    "```python\n",
    "import sys\n",
    "print(sys.version)\n",
    "```\n",
    "\n",
    "and the version of any module by running\n",
    "```python\n",
    "import <module name>\n",
    "print(<module name>.__version__)\n",
    "```"
   ]
  },
  {
   "cell_type": "markdown",
   "metadata": {},
   "source": [
    "## Loading the data science libraries"
   ]
  },
  {
   "cell_type": "code",
   "execution_count": null,
   "metadata": {},
   "outputs": [],
   "source": [
    "%pylab inline\n",
    "import pandas as pd"
   ]
  },
  {
   "cell_type": "markdown",
   "metadata": {},
   "source": [
    "## 1. Data"
   ]
  },
  {
   "cell_type": "markdown",
   "metadata": {},
   "source": [
    "The Iris Dataset is a small data set, originally introduced in 1936 by the British statistician and biologist Ronald Fisher, which is very often used to illustrate machine learning concepts. \n",
    "\n",
    "It contains 150 plant samples, from 3 different species of iris (_Iris setosa_, _Iris virginica_ and _Iris versicolor_). Four features were measured from each sample:\n",
    "1. sepal length in cm\n",
    "2. sepal width in cm\n",
    "3. petal length in cm\n",
    "4. petal width in cm \n",
    "\n",
    "Here, we will try to cluster the plans, _without using their labels_, based only on the petal descriptors. We will then compare our clustering to the actual plant labels."
   ]
  },
  {
   "cell_type": "markdown",
   "metadata": {},
   "source": [
    "### Loading the data\n",
    "The [Iris data set](http://scikit-learn.org/stable/auto_examples/datasets/plot_iris_dataset.html) is available from scikit-learn."
   ]
  },
  {
   "cell_type": "code",
   "execution_count": null,
   "metadata": {},
   "outputs": [],
   "source": [
    "from sklearn import datasets"
   ]
  },
  {
   "cell_type": "code",
   "execution_count": null,
   "metadata": {},
   "outputs": [],
   "source": [
    "iris = datasets.load_iris()\n",
    "X = iris.data[:, 2:4]  # we only use the last two features (petal descriptors)\n",
    "y = iris.target"
   ]
  },
  {
   "cell_type": "code",
   "execution_count": null,
   "metadata": {},
   "outputs": [],
   "source": [
    "print(X.shape)"
   ]
  },
  {
   "cell_type": "markdown",
   "metadata": {},
   "source": [
    "## 2. Hierarchical clustering"
   ]
  },
  {
   "cell_type": "markdown",
   "metadata": {},
   "source": [
    "Let us use the agglomerative clustering algorithm implemented in scikit-learn's [cluster.AgglomerativeClustering](http://scikit-learn.org/stable/modules/generated/sklearn.cluster.AgglomerativeClustering.html). In this implementation, you actually specify the number of clusters, rather than produce a dendrogram on which to decide of this number."
   ]
  },
  {
   "cell_type": "code",
   "execution_count": null,
   "metadata": {},
   "outputs": [],
   "source": [
    "from sklearn import cluster"
   ]
  },
  {
   "cell_type": "markdown",
   "metadata": {},
   "source": [
    "As we know there are three classes in the data, we will use the algorithm to produce 3 clusters. Let us use complete linkage."
   ]
  },
  {
   "cell_type": "code",
   "execution_count": null,
   "metadata": {},
   "outputs": [],
   "source": [
    "clustering = cluster.AgglomerativeClustering(n_clusters=3, linkage='complete')\n",
    "\n",
    "clustering.fit(X)"
   ]
  },
  {
   "cell_type": "markdown",
   "metadata": {},
   "source": [
    "### Visualizing the cluster assignments\n",
    "\n",
    "We will now plot the samples, and color them according to their cluster assignment.\n",
    "\n",
    "`clustering.labels_` contains the cluster assignments of all data points in `X`."
   ]
  },
  {
   "cell_type": "code",
   "execution_count": null,
   "metadata": {},
   "outputs": [],
   "source": [
    "fig = plt.figure(figsize=(6, 6))\n",
    "\n",
    "plt.scatter(X[:, 0], X[:, 1],           \n",
    "            c=clustering.labels_ , # color by cluster assignment\n",
    "            edgecolor='none', # remove dot border\n",
    "           ) \n",
    "plt.colorbar(label='cluster label', ticks=range(3))\n",
    "\n",
    "plt.xlabel(\"Petal length (cm)\", fontsize=14)\n",
    "plt.ylabel(\"Petal width (cm)\", fontsize=14)\n",
    "plt.title(\"Agglomerative clustering, single random initialization, petal features\")"
   ]
  },
  {
   "cell_type": "markdown",
   "metadata": {},
   "source": [
    "__Question 1:__ What do you think of the results obtained using this clustering algorithm on the data? Are you satisfied these clusters make sense?"
   ]
  },
  {
   "cell_type": "markdown",
   "metadata": {},
   "source": [
    "__Answer:__"
   ]
  },
  {
   "cell_type": "markdown",
   "metadata": {},
   "source": [
    "### Comparing the cluster assignments to the actual labels"
   ]
  },
  {
   "cell_type": "markdown",
   "metadata": {},
   "source": [
    "Let us visualize the actual labels of the samples."
   ]
  },
  {
   "cell_type": "code",
   "execution_count": null,
   "metadata": {},
   "outputs": [],
   "source": [
    "fig = plt.figure(figsize=(6, 6))\n",
    "\n",
    "plt.scatter(X[:, 0], X[:, 1],           \n",
    "            c=y , # color by label\n",
    "            edgecolor='none', # remove dot border\n",
    "           ) \n",
    "plt.colorbar(label='true label', ticks=range(3))\n",
    "\n",
    "plt.xlabel(\"Petal length (cm)\", fontsize=14)\n",
    "plt.ylabel(\"Petal width (cm)\", fontsize=14)\n",
    "plt.title(\"True labels\")"
   ]
  },
  {
   "cell_type": "markdown",
   "metadata": {},
   "source": [
    "__Question 2:__ Visually, how well do you think the clustering algorithm matches the actual labels?"
   ]
  },
  {
   "cell_type": "markdown",
   "metadata": {},
   "source": [
    "__Answer:__ "
   ]
  },
  {
   "cell_type": "markdown",
   "metadata": {},
   "source": [
    "The adjusted Rand index, implemented in scikit-learn's [metrics.adjusted_rand_score](http://scikit-learn.org/stable/modules/generated/sklearn.metrics.adjusted_rand_score.html), measures the similarity of the two assignments, ignoring permutations and with chance normalization.\n",
    "\n",
    "You can read more about it on [Wikipedia](https://en.wikipedia.org/wiki/Rand_index#Adjusted_Rand_index) and in the [documentation](http://scikit-learn.org/stable/modules/clustering.html#adjusted-rand-index)."
   ]
  },
  {
   "cell_type": "code",
   "execution_count": null,
   "metadata": {},
   "outputs": [],
   "source": [
    "from sklearn import metrics"
   ]
  },
  {
   "cell_type": "code",
   "execution_count": null,
   "metadata": {},
   "outputs": [],
   "source": [
    "print(\"%.3f\" % metrics.adjusted_rand_score(y, clustering.labels_))"
   ]
  },
  {
   "cell_type": "markdown",
   "metadata": {},
   "source": [
    "__Question 3:__ How do you interpret this adjusted Rand index value? Is this a good match or a poor match?"
   ]
  },
  {
   "cell_type": "markdown",
   "metadata": {},
   "source": [
    "__Answer:__"
   ]
  },
  {
   "cell_type": "code",
   "execution_count": null,
   "metadata": {},
   "outputs": [],
   "source": []
  },
  {
   "cell_type": "markdown",
   "metadata": {},
   "source": [
    "### Varying the clustering hyperparameters"
   ]
  },
  {
   "cell_type": "markdown",
   "metadata": {},
   "source": [
    "__Question 4:__ What do you think will happen if you ask the hierarchical clustering algorithm for 2 clusters only? Check whether this is the case. What is the adjusted Rand index value of this clustering?"
   ]
  },
  {
   "cell_type": "code",
   "execution_count": null,
   "metadata": {},
   "outputs": [],
   "source": [
    "# TODO"
   ]
  },
  {
   "cell_type": "markdown",
   "metadata": {},
   "source": [
    "__Question 5:__ Are you surprised by the clustering you obtain? Try using a different linkage function."
   ]
  },
  {
   "cell_type": "code",
   "execution_count": null,
   "metadata": {},
   "outputs": [],
   "source": [
    "# TODO"
   ]
  },
  {
   "cell_type": "markdown",
   "metadata": {},
   "source": [
    "__Question 6:__ What do you think will happen if you ask the hierarchical clustering algorithm for 4 clusters? Check whether this is the case. What is the adjusted Rand index value of this clustering?"
   ]
  },
  {
   "cell_type": "code",
   "execution_count": null,
   "metadata": {},
   "outputs": [],
   "source": [
    "# TODO"
   ]
  },
  {
   "cell_type": "markdown",
   "metadata": {},
   "source": [
    "## 4. K-means clustering"
   ]
  },
  {
   "cell_type": "markdown",
   "metadata": {},
   "source": [
    "To illustrate the K-means algorithm we will use the _first two_ features of our data, describing the sepals and not the petals. You can also try it on the petals descriptors, but as you've seen above, it is a rather easy problem."
   ]
  },
  {
   "cell_type": "code",
   "execution_count": null,
   "metadata": {},
   "outputs": [],
   "source": [
    "X = iris.data[:, :2]  # we only use the first two features (sepal descriptors)"
   ]
  },
  {
   "cell_type": "markdown",
   "metadata": {},
   "source": [
    "Let us first visualize the true labels of the data here:"
   ]
  },
  {
   "cell_type": "code",
   "execution_count": null,
   "metadata": {},
   "outputs": [],
   "source": [
    "fig = plt.figure(figsize=(6, 6))\n",
    "\n",
    "plt.scatter(X[:, 0], X[:, 1],           \n",
    "            c=y , # color by label\n",
    "            edgecolor='none', # remove dot border\n",
    "           ) \n",
    "plt.colorbar(label='true label', ticks=range(3))\n",
    "\n",
    "plt.xlabel(\"Sepal length (cm)\", fontsize=14)\n",
    "plt.ylabel(\"Sepal width (cm)\", fontsize=14)\n",
    "plt.title(\"True labels\")"
   ]
  },
  {
   "cell_type": "markdown",
   "metadata": {},
   "source": [
    "__Question 8:__ How easy do you think clustering this data is going to be? Why?"
   ]
  },
  {
   "cell_type": "markdown",
   "metadata": {},
   "source": [
    "__Answer:__"
   ]
  },
  {
   "cell_type": "markdown",
   "metadata": {},
   "source": [
    "Let us start with hierarchical clustering:"
   ]
  },
  {
   "cell_type": "code",
   "execution_count": null,
   "metadata": {},
   "outputs": [],
   "source": [
    "clustering = cluster.AgglomerativeClustering(n_clusters=3, linkage='complete')\n",
    "\n",
    "clustering.fit(X)\n",
    "\n",
    "fig = plt.figure(figsize=(6, 6))\n",
    "\n",
    "plt.scatter(X[:, 0], X[:, 1],           \n",
    "            c=clustering.labels_ , # color by cluster assignment\n",
    "            edgecolor='none', # remove dot border\n",
    "           ) \n",
    "plt.colorbar(label='cluster label', ticks=range(3))\n",
    "\n",
    "plt.xlabel(\"Sepal length (cm)\", fontsize=14)\n",
    "plt.ylabel(\"Sepal width (cm)\", fontsize=14)\n",
    "plt.title(\"Agglomerative clustering, complete linkage, sepal features\")\n",
    "\n",
    "print(\"Adjusted Rand Index: %.3f\" % metrics.adjusted_rand_score(y, clustering.labels_))"
   ]
  },
  {
   "cell_type": "markdown",
   "metadata": {},
   "source": [
    "As you can see, the clustering we obtain does not make much sense (the clusters are not well separated, for example) and does not match the actual labels."
   ]
  },
  {
   "cell_type": "markdown",
   "metadata": {},
   "source": [
    "### Vanilla K-Means"
   ]
  },
  {
   "cell_type": "markdown",
   "metadata": {},
   "source": [
    "K-means is implemented in scikit-learn's [cluster.KMeans](http://scikit-learn.org/stable/modules/generated/sklearn.cluster.KMeans.html). Lloyd's algorithm is obtained when using a single random initialization."
   ]
  },
  {
   "cell_type": "code",
   "execution_count": null,
   "metadata": {},
   "outputs": [],
   "source": [
    "clustering = cluster.KMeans(n_clusters=3, \n",
    "                            n_init=1, init='random' # use a single, random initialization\n",
    "                           )\n",
    "clustering.fit(X)"
   ]
  },
  {
   "cell_type": "code",
   "execution_count": null,
   "metadata": {},
   "outputs": [],
   "source": [
    "fig = plt.figure(figsize=(6, 6))\n",
    "\n",
    "plt.scatter(X[:, 0], X[:, 1],           \n",
    "            c=clustering.labels_ , # color by label\n",
    "            edgecolor='none', # remove dot border\n",
    "           ) \n",
    "plt.colorbar(label='cluster label', ticks=range(3))\n",
    "\n",
    "plt.xlabel(\"Sepal length (cm)\", fontsize=14)\n",
    "plt.ylabel(\"Sepal width (cm)\", fontsize=14)\n",
    "plt.title(\"K-Means clustering, single random initialization, sepal features\")\n",
    "\n",
    "print(\"Adjusted Rand Index: %.3f\" % metrics.adjusted_rand_score(y, clustering.labels_))"
   ]
  },
  {
   "cell_type": "markdown",
   "metadata": {},
   "source": [
    "__Question 9:__ How does the k-means algorithm perform on the sepals?"
   ]
  },
  {
   "cell_type": "markdown",
   "metadata": {},
   "source": [
    "__Answer:__"
   ]
  },
  {
   "cell_type": "markdown",
   "metadata": {},
   "source": [
    "### K-means++"
   ]
  },
  {
   "cell_type": "markdown",
   "metadata": {},
   "source": [
    "__Question 10:__ Use the default scikit-learn parameters for the k-means clustering. What do they mean, and how is the resulting clustering?"
   ]
  },
  {
   "cell_type": "code",
   "execution_count": null,
   "metadata": {},
   "outputs": [],
   "source": [
    "# Answer"
   ]
  },
  {
   "cell_type": "markdown",
   "metadata": {},
   "source": [
    "## 5. DBSCAN"
   ]
  },
  {
   "cell_type": "markdown",
   "metadata": {},
   "source": [
    "DBSCAN is a density-based clustering algorithm, implemented in scikit-learn's [cluster.DBSCAN](http://scikit-learn.org/stable/modules/generated/sklearn.cluster.DBSCAN.html)."
   ]
  },
  {
   "cell_type": "markdown",
   "metadata": {},
   "source": [
    "__Question 11:__ Do you think a density-based clustering will give satisfactory results on our data?"
   ]
  },
  {
   "cell_type": "markdown",
   "metadata": {},
   "source": [
    "__Answer:__"
   ]
  },
  {
   "cell_type": "code",
   "execution_count": null,
   "metadata": {},
   "outputs": [],
   "source": [
    "clustering = cluster.DBSCAN(eps=0.25)\n",
    "clustering.fit(X)"
   ]
  },
  {
   "cell_type": "code",
   "execution_count": null,
   "metadata": {},
   "outputs": [],
   "source": [
    "fig = plt.figure(figsize=(6, 6))\n",
    "\n",
    "plt.scatter(X[:, 0], X[:, 1],           \n",
    "            c=clustering.labels_ , # color by label\n",
    "            edgecolor='none', # remove dot border\n",
    "           ) \n",
    "plt.colorbar(label='cluster label', ticks=range(3))\n",
    "\n",
    "plt.xlabel(\"Sepal length (cm)\", fontsize=14)\n",
    "plt.ylabel(\"Sepal width (cm)\", fontsize=14)\n",
    "plt.title(\"DBSCAN clustering, sepal features\")\n",
    "\n",
    "print(\"Adjusted Rand Index: %.3f\" % metrics.adjusted_rand_score(y, clustering.labels_))"
   ]
  },
  {
   "cell_type": "markdown",
   "metadata": {},
   "source": [
    "__Question 12:__ Does this clustering match your expectations? Notice that points labeled -1 are considered outliers."
   ]
  },
  {
   "cell_type": "markdown",
   "metadata": {},
   "source": [
    "__Answer:__"
   ]
  },
  {
   "cell_type": "code",
   "execution_count": null,
   "metadata": {},
   "outputs": [],
   "source": []
  }
 ],
 "metadata": {
  "kernelspec": {
   "display_name": "Python 3",
   "language": "python",
   "name": "python3"
  },
  "language_info": {
   "codemirror_mode": {
    "name": "ipython",
    "version": 3
   },
   "file_extension": ".py",
   "mimetype": "text/x-python",
   "name": "python",
   "nbconvert_exporter": "python",
   "pygments_lexer": "ipython3",
   "version": "3.4.3"
  }
 },
 "nbformat": 4,
 "nbformat_minor": 2
}
