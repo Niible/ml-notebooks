{
 "cells": [
  {
   "cell_type": "markdown",
   "metadata": {},
   "source": [
    "# Manipulating data with Python and Numpy\n",
    "\n",
    "The goal of this notebook is to start manipulating data with Python and Numpy. We will use scikit-learn only to load the data.\n",
    "\n",
    "The data you'll be working with today is called the `digit` dataset. It contains digital images of handwritten digits.\n",
    "\n",
    "This notebook was created by [Chloé-Agathe Azencott](http://cazencott.info), inspired by [Alexandre Gramfort](http://alexandre.gramfort.net/)."
   ]
  },
  {
   "cell_type": "markdown",
   "metadata": {},
   "source": [
    "## 1. How to use Jupyter\n",
    "\n",
    "Jupyter is a web application that allows you to create and share documents such as this one, called  _notebooks_, which have extension `.ipynb`. They contain code that can be modified and executed, visualisations, and explanatory text that can be edited with a markdown syntax and contain equations.)\n",
    "\n",
    "Here are some tips on using a Jupyter notebook:\n",
    "* Each block of text is contained in a _cell_. A cell can be either raw text, code, or markdown text (such as this cell). For more info on markdown syntax, follow the [guide](http://jupyter-notebook.readthedocs.io/en/latest/examples/Notebook/Working%20With%20Markdown%20Cells.html).\n",
    "* You can run a cell by clicking inside it and hitting `Shift+Enter` (or the play button in the toolbar)."
   ]
  },
  {
   "cell_type": "code",
   "execution_count": null,
   "metadata": {
    "collapsed": true
   },
   "outputs": [],
   "source": [
    "2 + 2  # hit Shift+Enter to run"
   ]
  },
  {
   "cell_type": "markdown",
   "metadata": {},
   "source": [
    "* If you want to create a new cell below the one you're running, hit `Alt+Enter` (or the plus button in the toolbar).\n",
    "* If the notebook hangs, you can restart it with \"Restart\" in the \"Kernel\" menu.\n",
    "\n",
    "Some tips on using a Jupyter notebook with Python:\n",
    "* A notebook behaves like an interactive python shell! This means that\n",
    "    * classes, functions, and variables defined at the cell level have global scope throughout the notebok\n",
    "    * hitting `Tab` will autocomplete the keyword you have started typing\n",
    "    * typing a question mark after a function name will load the interactive help for this function.\n",
    "* Jupyter has special Python commands (shortcuts, if you will) called _magics_. For instance, `%bash` will allow you to run bash code, `%paste` will allow you to paste a block of code while retaining its formating, and `%matplotlib inline` will import the visualization library matplotlib, and automatically display its plots inline, that is, below the cell. Here's a full list: http://ipython.readthedocs.io/en/stable/interactive/magics.html \n",
    "* Learn more about the interactive Python shell here: http://ipython.readthedocs.io/en/stable/interactive/tutorial.html\n",
    "\n",
    "For more info on Jupyter: https://jupyter.org/"
   ]
  },
  {
   "cell_type": "markdown",
   "metadata": {},
   "source": [
    "## 2. Loading the data"
   ]
  },
  {
   "cell_type": "markdown",
   "metadata": {},
   "source": [
    "Let us start with a jupyter _magic_:"
   ]
  },
  {
   "cell_type": "code",
   "execution_count": 1,
   "metadata": {},
   "outputs": [
    {
     "name": "stdout",
     "output_type": "stream",
     "text": [
      "Populating the interactive namespace from numpy and matplotlib\n"
     ]
    }
   ],
   "source": [
    "% pylab inline"
   ]
  },
  {
   "cell_type": "markdown",
   "metadata": {},
   "source": [
    "This magic is equivalent to: \n",
    "\n",
    "```python \n",
    "import numpy as np\n",
    "import matplotlib.plot as plt```\n",
    "\n",
    "The `inline` keyword specifies that we want our figures to appear inside the notebook and not in separate windows. \n",
    "\n",
    "Numpy (stands for Numerical Python) is the Python library for numerical computations, and in particular for the manipulation of vectors and matrices.\n",
    "\n",
    "Matplotlib is a plotting library."
   ]
  },
  {
   "cell_type": "markdown",
   "metadata": {},
   "source": [
    "In this series of labs, we will heavily rely on the `scikit-learn` library for machine learning in Python. In this first notebook, however, we will only use it to load one of the classical data sets that it makes available."
   ]
  },
  {
   "cell_type": "code",
   "execution_count": 6,
   "metadata": {},
   "outputs": [],
   "source": [
    "# Load data\n",
    "from sklearn import datasets \n",
    "\n",
    "digits = datasets.load_digits()\n",
    "\n",
    "# Get descriptors and target to predict\n",
    "X, y = digits.data, digits.target"
   ]
  },
  {
   "cell_type": "markdown",
   "metadata": {},
   "source": [
    "We have loaded the data into two _numpy arrays_ X and y. X is a two-dimensional array (i.e. a matrix), containing the samples as rows and the features describing them as columns; y is a one-dimensional array (i.e. a vector), containing the labels."
   ]
  },
  {
   "cell_type": "markdown",
   "metadata": {},
   "source": [
    "The dimension of an array is accessible via its `shape` attribute:"
   ]
  },
  {
   "cell_type": "code",
   "execution_count": 3,
   "metadata": {},
   "outputs": [
    {
     "name": "stdout",
     "output_type": "stream",
     "text": [
      "(1797, 64)\n"
     ]
    }
   ],
   "source": [
    "print X.shape"
   ]
  },
  {
   "cell_type": "code",
   "execution_count": 4,
   "metadata": {},
   "outputs": [
    {
     "name": "stdout",
     "output_type": "stream",
     "text": [
      "Number of samples: 1797\n",
      "Number of pixels: 64\n",
      "Number of classes: 10\n"
     ]
    }
   ],
   "source": [
    "# Get the shape of the data\n",
    "print \"Number of samples: %d\" % X.shape[0]\n",
    "print \"Number of pixels: %d\" % X.shape[1]\n",
    "print \"Number of classes: %d\" % len(np.unique(y)) # number of unique values in y"
   ]
  },
  {
   "cell_type": "markdown",
   "metadata": {},
   "source": [
    "We have loaded 1797 images, each containing 64 pixels (they are 8 x 8 images), and belonging to one of 10 classes (the digits from 0 to 9)."
   ]
  },
  {
   "cell_type": "code",
   "execution_count": 7,
   "metadata": {},
   "outputs": [
    {
     "name": "stdout",
     "output_type": "stream",
     "text": [
      "[ 0.  0.  0.  0. 12.  5.  0.  0.  0.  0.  0.  2. 16. 12.  0.  0.  0.  0.\n",
      "  1. 12. 16. 11.  0.  0.  0.  2. 12. 16. 16. 10.  0.  0.  0.  6. 11.  5.\n",
      " 15.  6.  0.  0.  0.  0.  0.  1. 16.  9.  0.  0.  0.  0.  0.  2. 16. 11.\n",
      "  0.  0.  0.  0.  0.  3. 16.  8.  0.  0.]\n",
      "1\n"
     ]
    }
   ],
   "source": [
    "# Pick one sample to \"visualize\" it\n",
    "sample_idx = 42\n",
    "\n",
    "print X[sample_idx, :]\n",
    "\n",
    "print y[sample_idx]"
   ]
  },
  {
   "cell_type": "markdown",
   "metadata": {},
   "source": [
    "__Question 1:__ \n",
    "* What is the type of X? Of its entries?\n",
    "* What is the type of y? Of its entries?\n",
    "* Play with different values for `sample_idx`. Can you guess `y[sample_idx`]?"
   ]
  },
  {
   "cell_type": "code",
   "execution_count": 10,
   "metadata": {},
   "outputs": [],
   "source": [
    "# TODO"
   ]
  },
  {
   "cell_type": "markdown",
   "metadata": {},
   "source": [
    "## 3. Visualizing the data"
   ]
  },
  {
   "cell_type": "markdown",
   "metadata": {},
   "source": [
    "Each sample is a scanned image, of size 8x8, containing 64 pixels. They have been flattened out to a vector of size 64, such as `X[sample_idx, :]`. Each entry of that vector is the intensity of the corresponding pixel.\n",
    "\n",
    "Let us now visualize the original image."
   ]
  },
  {
   "cell_type": "code",
   "execution_count": 11,
   "metadata": {},
   "outputs": [
    {
     "name": "stdout",
     "output_type": "stream",
     "text": [
      "(8, 8)\n"
     ]
    }
   ],
   "source": [
    "# Reshape the vector X[sample_idx] in a 2D, 8x8 matrix\n",
    "sample_image = np.reshape(X[sample_idx, :], (8, 8))\n",
    "print sample_image.shape"
   ]
  },
  {
   "cell_type": "code",
   "execution_count": 12,
   "metadata": {},
   "outputs": [
    {
     "data": {
      "text/plain": [
       "<matplotlib.image.AxesImage at 0x7faed43c9350>"
      ]
     },
     "execution_count": 12,
     "metadata": {},
     "output_type": "execute_result"
    },
    {
     "data": {
      "image/png": "[encoded data removed]",
      "text/plain": [
       "<matplotlib.figure.Figure at 0x7faf1ad67750>"
      ]
     },
     "metadata": {},
     "output_type": "display_data"
    }
   ],
   "source": [
    "# Display the corresponding image\n",
    "plt.imshow(sample_image)"
   ]
  },
  {
   "cell_type": "code",
   "execution_count": 15,
   "metadata": {},
   "outputs": [
    {
     "data": {
      "text/plain": [
       "<matplotlib.text.Text at 0x7faed41ba9d0>"
      ]
     },
     "execution_count": 15,
     "metadata": {},
     "output_type": "execute_result"
    },
    {
     "data": {
      "image/png": "[encoded data removed]",
      "text/plain": [
       "<matplotlib.figure.Figure at 0x7faed41ed790>"
      ]
     },
     "metadata": {},
     "output_type": "display_data"
    }
   ],
   "source": [
    "# Let us improve visualization by using grayscale plotting \n",
    "plt.imshow(sample_image, cmap='gray')\n",
    "\n",
    "# Give the plot of title\n",
    "plt.title('The digit at index %d is a %d' % (sample_idx, y[sample_idx]))"
   ]
  },
  {
   "cell_type": "markdown",
   "metadata": {},
   "source": [
    "__Question 2:__ \n",
    "Visualize a few of the digits in the data set."
   ]
  },
  {
   "cell_type": "code",
   "execution_count": 17,
   "metadata": {},
   "outputs": [],
   "source": [
    "# TODO"
   ]
  },
  {
   "cell_type": "markdown",
   "metadata": {},
   "source": [
    "## 4. Mean image in each class"
   ]
  },
  {
   "cell_type": "markdown",
   "metadata": {},
   "source": [
    "In order to better understand the data, we will compute, for each class, the mean data point, and visualize it as an image."
   ]
  },
  {
   "cell_type": "code",
   "execution_count": 18,
   "metadata": {},
   "outputs": [
    {
     "name": "stdout",
     "output_type": "stream",
     "text": [
      "Classes in our data:  [0 1 2 3 4 5 6 7 8 9]\n"
     ]
    }
   ],
   "source": [
    "# Get all possible classes\n",
    "classes_list = np.unique(y).astype(int)\n",
    "print \"Classes in our data: \", classes_list"
   ]
  },
  {
   "cell_type": "markdown",
   "metadata": {},
   "source": [
    "__Question 3:__\n",
    "Complete the code below to compute the mean image for every digit in the data set.\n",
    "\n",
    "The mean image of all images representing a 0 is an image where the pixel of coordinates (i, j) takes the average value of all (i, j) pixels among images of 0."
   ]
  },
  {
   "cell_type": "code",
   "execution_count": null,
   "metadata": {},
   "outputs": [],
   "source": [
    "# For plotting\n",
    "fig = plt.figure()\n",
    "\n",
    "for idx in classes_list:\n",
    "    ax = fig.add_subplot(3, 4, idx+1) # plot number (idx+1) on a 3x4 grid\n",
    "    # Get indices of images of class idx\n",
    "    images_indices = np.where( # TODO\n",
    "    \n",
    "    # Get the corresponding pixel descriptions\n",
    "    images = X[images_indices, :]\n",
    "    \n",
    "    # Compute the mean of these values\n",
    "    mean_image_pixels = # TODO\n",
    "    \n",
    "    # Transform into an 8x8 image\n",
    "    mean_image = # TODO\n",
    "    \n",
    "    ax.imshow(mean_image, cmap='gray')"
   ]
  }
 ],
 "metadata": {
  "kernelspec": {
   "display_name": "Python 2",
   "language": "python",
   "name": "python2"
  },
  "language_info": {
   "codemirror_mode": {
    "name": "ipython",
    "version": 2
   },
   "file_extension": ".py",
   "mimetype": "text/x-python",
   "name": "python",
   "nbconvert_exporter": "python",
   "pygments_lexer": "ipython2",
   "version": "2.7.6"
  }
 },
 "nbformat": 4,
 "nbformat_minor": 2
}
